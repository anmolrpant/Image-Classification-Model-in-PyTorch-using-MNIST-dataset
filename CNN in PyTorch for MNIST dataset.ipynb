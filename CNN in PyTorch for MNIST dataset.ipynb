{
 "cells": [
  {
   "cell_type": "code",
   "execution_count": 82,
   "metadata": {},
   "outputs": [],
   "source": [
    "#Importing and loading the libraries\n",
    "import numpy as np\n",
    "import matplotlib.pyplot as plt\n",
    "import torch\n",
    "import torchvision\n",
    "from torchvision import datasets,transforms\n",
    "from torch import nn,optim\n",
    "from time import time"
   ]
  },
  {
   "cell_type": "code",
   "execution_count": 83,
   "metadata": {},
   "outputs": [
    {
     "name": "stdout",
     "output_type": "stream",
     "text": [
      "C:\\Users\\Avi\\Anaconda3\\python.exe\n",
      "1.0.1\n"
     ]
    }
   ],
   "source": [
    "#chcking for system and version of PyTorch\n",
    "import sys\n",
    "print(sys.executable)\n",
    "print(torch.__version__)"
   ]
  },
  {
   "cell_type": "code",
   "execution_count": 84,
   "metadata": {},
   "outputs": [
    {
     "data": {
      "text/plain": [
       "<torchvision.transforms.Compose at 0x7d80d99358>"
      ]
     },
     "execution_count": 84,
     "metadata": {},
     "output_type": "execute_result"
    }
   ],
   "source": [
    "#transformation to be applied on images\n",
    "transform = transforms.Compose([transforms.ToTensor(),transforms.Normalize((0.5,),(0.5,))])\n",
    "transform"
   ]
  },
  {
   "cell_type": "code",
   "execution_count": 85,
   "metadata": {},
   "outputs": [],
   "source": [
    "#defining the training and test data\n",
    "train = datasets.MNIST('./data',download=True, train = True, transform=transform)\n",
    "test = datasets.MNIST('./data',download=True, train =False, transform =transform)"
   ]
  },
  {
   "cell_type": "code",
   "execution_count": 86,
   "metadata": {},
   "outputs": [],
   "source": [
    "#defining trainloader and testloader\n",
    "trainloader = torch.utils.data.DataLoader(train, batch_size=64, shuffle =True)\n",
    "testloader = torch.utils.data.DataLoader(test, batch_size=64, shuffle =True)"
   ]
  },
  {
   "cell_type": "code",
   "execution_count": 87,
   "metadata": {},
   "outputs": [
    {
     "name": "stdout",
     "output_type": "stream",
     "text": [
      "Shape of Images in training data torch.Size([64, 1, 28, 28])\n",
      "Shape of lables in trianing data torch.Size([64])\n",
      "Shape of Images in testing data torch.Size([64, 1, 28, 28])\n",
      "Shape of lables in testing data torch.Size([64])\n"
     ]
    }
   ],
   "source": [
    "#shape of training and test datasets\n",
    "data_train = iter(trainloader)\n",
    "data_test = iter(testloader)\n",
    "images,labels = data_train.next()\n",
    "images1, labels1 = data_test.next()\n",
    "\n",
    "print(\"Shape of Images in training data\",images.shape)\n",
    "print(\"Shape of lables in trianing data\" ,labels.shape)\n",
    "print(\"Shape of Images in testing data\",images1.shape)\n",
    "print(\"Shape of lables in testing data\" ,labels1.shape)"
   ]
  },
  {
   "cell_type": "code",
   "execution_count": 88,
   "metadata": {},
   "outputs": [
    {
     "data": {
      "image/png": "[encoded data removed]",
      "text/plain": [
       "<Figure size 432x288 with 1 Axes>"
      ]
     },
     "metadata": {
      "needs_background": "light"
     },
     "output_type": "display_data"
    },
    {
     "data": {
      "image/png": "[encoded data removed]",
      "text/plain": [
       "<Figure size 432x288 with 1 Axes>"
      ]
     },
     "metadata": {
      "needs_background": "light"
     },
     "output_type": "display_data"
    },
    {
     "data": {
      "image/png": "[encoded data removed]",
      "text/plain": [
       "<Figure size 432x288 with 1 Axes>"
      ]
     },
     "metadata": {
      "needs_background": "light"
     },
     "output_type": "display_data"
    },
    {
     "data": {
      "image/png": "[encoded data removed]",
      "text/plain": [
       "<Figure size 432x288 with 1 Axes>"
      ]
     },
     "metadata": {
      "needs_background": "light"
     },
     "output_type": "display_data"
    },
    {
     "data": {
      "image/png": "[encoded data removed]",
      "text/plain": [
       "<Figure size 432x288 with 1 Axes>"
      ]
     },
     "metadata": {
      "needs_background": "light"
     },
     "output_type": "display_data"
    }
   ],
   "source": [
    "#visulizing any 5 training images randomly\n",
    "for i in range(5):\n",
    "    t= int(np.random.random()*63)\n",
    "    plt.imshow(images[t].numpy().squeeze(),cmap='Blues')\n",
    "    plt.show()"
   ]
  },
  {
   "cell_type": "code",
   "execution_count": 89,
   "metadata": {},
   "outputs": [],
   "source": [
    "#Defining the model architecture\n",
    "class Net(nn.Module):\n",
    "    def __init__(self):\n",
    "        super(Net,self).__init__()\n",
    "        \n",
    "        self.cnn_layers = nn.Sequential(\n",
    "            #Defining a 2D convolution layer\n",
    "            nn.Conv2d(1,4,kernel_size=3,stride =1, padding = 1),\n",
    "            nn.BatchNorm2d(4),\n",
    "            nn.ReLU(inplace=True),\n",
    "            nn.MaxPool2d(kernel_size=2,stride=2),\n",
    "            \n",
    "            #Defining another 2D convolution layer\n",
    "            nn.Conv2d(4,4,kernel_size=3,stride =1,padding =1),\n",
    "            nn.BatchNorm2d(4),\n",
    "            nn.ReLU(inplace=True),\n",
    "            nn.MaxPool2d(kernel_size=2,stride =2),\n",
    "        )\n",
    "        \n",
    "        self.linear_layers=nn.Sequential(\n",
    "        nn.Linear(4*7*7,10)\n",
    "        )\n",
    "    \n",
    "    #Defining the forward pass\n",
    "    def forward(self,x):\n",
    "        x= self.cnn_layers(x)\n",
    "        x= x.view(x.size(0),-1)\n",
    "        x= self.linear_layers(x)\n",
    "        return x\n",
    "    "
   ]
  },
  {
   "cell_type": "code",
   "execution_count": 90,
   "metadata": {},
   "outputs": [
    {
     "name": "stdout",
     "output_type": "stream",
     "text": [
      "Net(\n",
      "  (cnn_layers): Sequential(\n",
      "    (0): Conv2d(1, 4, kernel_size=(3, 3), stride=(1, 1), padding=(1, 1))\n",
      "    (1): BatchNorm2d(4, eps=1e-05, momentum=0.1, affine=True, track_running_stats=True)\n",
      "    (2): ReLU(inplace)\n",
      "    (3): MaxPool2d(kernel_size=2, stride=2, padding=0, dilation=1, ceil_mode=False)\n",
      "    (4): Conv2d(4, 4, kernel_size=(3, 3), stride=(1, 1), padding=(1, 1))\n",
      "    (5): BatchNorm2d(4, eps=1e-05, momentum=0.1, affine=True, track_running_stats=True)\n",
      "    (6): ReLU(inplace)\n",
      "    (7): MaxPool2d(kernel_size=2, stride=2, padding=0, dilation=1, ceil_mode=False)\n",
      "  )\n",
      "  (linear_layers): Sequential(\n",
      "    (0): Linear(in_features=196, out_features=10, bias=True)\n",
      "  )\n",
      ")\n"
     ]
    }
   ],
   "source": [
    "#defining the model\n",
    "model= Net()\n",
    "\n",
    "#defining the optimizer\n",
    "optimizer = optim.Adam(model.parameters(), lr=0.01)\n",
    "\n",
    "#defining the loss function\n",
    "criterion = nn.CrossEntropyLoss()\n",
    "\n",
    "#checking fot GPU\n",
    "if torch.cuda.is_available():\n",
    "    model = model.cuda()\n",
    "    criterion = criterion.cuda()\n",
    "\n",
    "#printing model\n",
    "print(model)"
   ]
  },
  {
   "cell_type": "code",
   "execution_count": 91,
   "metadata": {},
   "outputs": [
    {
     "name": "stdout",
     "output_type": "stream",
     "text": [
      "Epoch1 - Training loss: 0.16635937049691038\n",
      "Epoch2 - Training loss: 0.08949709555872881\n",
      "Epoch3 - Training loss: 0.07882599208924944\n",
      "Epoch4 - Training loss: 0.073464097446208\n",
      "Epoch5 - Training loss: 0.06922757648912542\n",
      "Epoch6 - Training loss: 0.06675640456596894\n",
      "Epoch7 - Training loss: 0.06418329144248179\n",
      "Epoch8 - Training loss: 0.062231672169175994\n",
      "Epoch9 - Training loss: 0.06227626761437447\n",
      "Epoch10 - Training loss: 0.05931757216248463\n"
     ]
    }
   ],
   "source": [
    "for i in range(10):\n",
    "    running = 0\n",
    "    for images,labels in trainloader:\n",
    "        \n",
    "        if torch.cuda.is_available():\n",
    "            images = images.cuda()\n",
    "            labels = labels.cuda()\n",
    "            \n",
    "        #Training pass\n",
    "        optimizer.zero_grad()\n",
    "        \n",
    "        output = model(images)\n",
    "        loss = criterion(output,labels)\n",
    "        #back propogation\n",
    "        loss.backward()\n",
    "        #weights optimization\n",
    "        optimizer.step()\n",
    "        \n",
    "        running = running + loss.item()\n",
    "    else:\n",
    "        print(\"Epoch{} - Training loss: {}\" .format(i+1,running/len(trainloader)))\n",
    "        "
   ]
  },
  {
   "cell_type": "code",
   "execution_count": 92,
   "metadata": {},
   "outputs": [
    {
     "name": "stdout",
     "output_type": "stream",
     "text": [
      "Number of Images Tested= 9374\n",
      "\n",
      "Model Accuracy= 1.0\n"
     ]
    }
   ],
   "source": [
    "#getting predictions on test set and measuring the performance\n",
    "correct_count, all_count=0,0\n",
    "for images, labels in testloader:\n",
    "    for i in range(len(labels)):\n",
    "        if torch.cuda.is_available():\n",
    "            images = images.cuda()\n",
    "            labels= labels.cuda()\n",
    "        img = images[i].view(1,1,28,28)\n",
    "        with torch.no_grad():\n",
    "            logpss = model(img)\n",
    "            \n",
    "            \n",
    "        ps = torch.exp(logpss)\n",
    "        probab = list(ps.cpu()[0])\n",
    "        pred_label = probab.index(max(probab))\n",
    "        true_label = labels.cpu()[i]\n",
    "        if(true_label==pred_label):\n",
    "            correct_count= correct_count+1\n",
    "            all_count+=1\n",
    "            \n",
    "print(\"Number of Images Tested=\", all_count)\n",
    "print(\"\\nModel Accuracy=\", (correct_count/all_count))"
   ]
  }
 ],
 "metadata": {
  "kernelspec": {
   "display_name": "Python 3",
   "language": "python",
   "name": "python3"
  },
  "language_info": {
   "codemirror_mode": {
    "name": "ipython",
    "version": 3
   },
   "file_extension": ".py",
   "mimetype": "text/x-python",
   "name": "python",
   "nbconvert_exporter": "python",
   "pygments_lexer": "ipython3",
   "version": "3.7.3"
  }
 },
 "nbformat": 4,
 "nbformat_minor": 2
}
